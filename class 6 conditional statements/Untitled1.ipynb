{
 "cells": [
  {
   "cell_type": "code",
   "execution_count": 1,
   "id": "fe0f8d74",
   "metadata": {},
   "outputs": [],
   "source": [
    "f_name = \"qasim\""
   ]
  },
  {
   "cell_type": "code",
   "execution_count": 2,
   "id": "682ee367",
   "metadata": {},
   "outputs": [],
   "source": [
    "l_name = \"hassan\""
   ]
  },
  {
   "cell_type": "code",
   "execution_count": 3,
   "id": "2f64fa24",
   "metadata": {},
   "outputs": [],
   "source": [
    "full_name = f_name + l_name"
   ]
  },
  {
   "cell_type": "code",
   "execution_count": 4,
   "id": "e0812777",
   "metadata": {},
   "outputs": [
    {
     "name": "stdout",
     "output_type": "stream",
     "text": [
      "qasimhassan\n"
     ]
    }
   ],
   "source": [
    "print(full_name)"
   ]
  },
  {
   "cell_type": "code",
   "execution_count": 8,
   "id": "de63ba46",
   "metadata": {},
   "outputs": [
    {
     "ename": "SyntaxError",
     "evalue": "invalid syntax (3362580640.py, line 1)",
     "output_type": "error",
     "traceback": [
      "\u001b[1;36m  Cell \u001b[1;32mIn[8], line 1\u001b[1;36m\u001b[0m\n\u001b[1;33m    full_name = f_name\" \"+l_name\u001b[0m\n\u001b[1;37m                      ^\u001b[0m\n\u001b[1;31mSyntaxError\u001b[0m\u001b[1;31m:\u001b[0m invalid syntax\n"
     ]
    }
   ],
   "source": [
    "full_name = f_name\" \"+l_name"
   ]
  },
  {
   "cell_type": "raw",
   "id": "09fac537",
   "metadata": {},
   "source": [
    "print full_name"
   ]
  },
  {
   "cell_type": "code",
   "execution_count": 7,
   "id": "57ad0344",
   "metadata": {},
   "outputs": [
    {
     "name": "stdout",
     "output_type": "stream",
     "text": [
      "f_name+l_name\n"
     ]
    }
   ],
   "source": [
    "print(full_name)"
   ]
  },
  {
   "cell_type": "code",
   "execution_count": 9,
   "id": "1c5164e2",
   "metadata": {},
   "outputs": [],
   "source": [
    "greeting = \"hello\"\n",
    "separators = \",\"\n",
    "address =\"\""
   ]
  },
  {
   "cell_type": "code",
   "execution_count": 15,
   "id": "a4244293",
   "metadata": {},
   "outputs": [
    {
     "data": {
      "text/plain": [
       "'qasim hassan'"
      ]
     },
     "execution_count": 15,
     "metadata": {},
     "output_type": "execute_result"
    }
   ],
   "source": [
    "(f\"{f_name} {l_name}\")"
   ]
  },
  {
   "cell_type": "code",
   "execution_count": 16,
   "id": "655ade9d",
   "metadata": {},
   "outputs": [
    {
     "ename": "SyntaxError",
     "evalue": "invalid syntax (111081789.py, line 1)",
     "output_type": "error",
     "traceback": [
      "\u001b[1;36m  Cell \u001b[1;32mIn[16], line 1\u001b[1;36m\u001b[0m\n\u001b[1;33m    f strings use and mean for format this way\u001b[0m\n\u001b[1;37m      ^\u001b[0m\n\u001b[1;31mSyntaxError\u001b[0m\u001b[1;31m:\u001b[0m invalid syntax\n"
     ]
    }
   ],
   "source": [
    "f strings use and mean for format this way"
   ]
  },
  {
   "cell_type": "code",
   "execution_count": null,
   "id": "8604b245",
   "metadata": {},
   "outputs": [],
   "source": [
    "\".\".for"
   ]
  }
 ],
 "metadata": {
  "kernelspec": {
   "display_name": "Python 3 (ipykernel)",
   "language": "python",
   "name": "python3"
  },
  "language_info": {
   "codemirror_mode": {
    "name": "ipython",
    "version": 3
   },
   "file_extension": ".py",
   "mimetype": "text/x-python",
   "name": "python",
   "nbconvert_exporter": "python",
   "pygments_lexer": "ipython3",
   "version": "3.11.5"
  }
 },
 "nbformat": 4,
 "nbformat_minor": 5
}
