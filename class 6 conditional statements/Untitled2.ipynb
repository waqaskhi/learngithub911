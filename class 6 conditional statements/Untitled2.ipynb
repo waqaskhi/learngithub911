{
 "cells": [
  {
   "cell_type": "markdown",
   "id": "dda97df0",
   "metadata": {},
   "source": [
    "# 1 if statements"
   ]
  },
  {
   "cell_type": "code",
   "execution_count": 23,
   "id": "de015876",
   "metadata": {},
   "outputs": [],
   "source": [
    "chutti = True"
   ]
  },
  {
   "cell_type": "markdown",
   "id": "de5a6e28",
   "metadata": {},
   "source": [
    "if <condition>:\n",
    "    \n",
    "    <body start>\n",
    "\n",
    "    what will\n",
    "    \n",
    "    <body end>"
   ]
  },
  {
   "cell_type": "code",
   "execution_count": 17,
   "id": "e186893b",
   "metadata": {},
   "outputs": [],
   "source": [
    "if chutti:\n",
    "    print (\"Today is off - Happy new year\")"
   ]
  },
  {
   "cell_type": "code",
   "execution_count": 16,
   "id": "66799676",
   "metadata": {},
   "outputs": [
    {
     "name": "stdout",
     "output_type": "stream",
     "text": [
      "Out of body print\n"
     ]
    }
   ],
   "source": [
    "if chutti:\n",
    "    print (\"Today is off - Happy new year\")\n",
    "print(\"Out of body print\")"
   ]
  },
  {
   "cell_type": "code",
   "execution_count": 24,
   "id": "fdc76289",
   "metadata": {},
   "outputs": [
    {
     "name": "stdout",
     "output_type": "stream",
     "text": [
      "Today is off - Happy new year\n"
     ]
    }
   ],
   "source": [
    "if chutti:\n",
    "    print (\"Today is off - Happy new year\")\n",
    "else:\n",
    "    print(\"Attend class in Saylani\")"
   ]
  },
  {
   "cell_type": "markdown",
   "id": "c9889a46",
   "metadata": {},
   "source": [
    "## 1.1 Example 2"
   ]
  },
  {
   "cell_type": "code",
   "execution_count": 32,
   "id": "8879bc70",
   "metadata": {},
   "outputs": [],
   "source": [
    "number = 2"
   ]
  },
  {
   "cell_type": "code",
   "execution_count": 28,
   "id": "b61c89d6",
   "metadata": {},
   "outputs": [
    {
     "data": {
      "text/plain": [
       "True"
      ]
     },
     "execution_count": 28,
     "metadata": {},
     "output_type": "execute_result"
    }
   ],
   "source": [
    "number%2==0"
   ]
  },
  {
   "cell_type": "code",
   "execution_count": 33,
   "id": "cc2536fd",
   "metadata": {},
   "outputs": [
    {
     "name": "stdout",
     "output_type": "stream",
     "text": [
      "number is even\n"
     ]
    }
   ],
   "source": [
    "if number%2==0:\n",
    "    print(\"number is even\")\n",
    "else:\n",
    "    print(\"number is odd\")"
   ]
  },
  {
   "cell_type": "markdown",
   "id": "f9b3f4f2",
   "metadata": {},
   "source": [
    "# Example 3"
   ]
  },
  {
   "cell_type": "code",
   "execution_count": 45,
   "id": "4aaf8e04",
   "metadata": {},
   "outputs": [],
   "source": [
    "country = \"Turkey\"\n",
    "height = 6"
   ]
  },
  {
   "cell_type": "code",
   "execution_count": 46,
   "id": "f1d8f75f",
   "metadata": {},
   "outputs": [
    {
     "name": "stdout",
     "output_type": "stream",
     "text": [
      "Mehmood is Happy for country\n",
      "Its fine for Mehmood\n"
     ]
    }
   ],
   "source": [
    "if country != \"Pakistan\":\n",
    "    print(\"Mehmood is Happy for country\") \n",
    "    if height<5:\n",
    "        print(\"Mehmood is not Happy for height\") \n",
    "    else:\n",
    "        print(\"Its fine for Mehmood\")\n",
    "else:\n",
    "    print(\"Mehmood is sad\")"
   ]
  },
  {
   "cell_type": "code",
   "execution_count": 48,
   "id": "e8d05491",
   "metadata": {},
   "outputs": [
    {
     "name": "stdout",
     "output_type": "stream",
     "text": [
      "Enter Country of Girl: Turkey\n",
      "Enter Height of Girl: 6\n",
      "Mehmood is Happy for country\n",
      "Its fine for Mehmood\n"
     ]
    }
   ],
   "source": [
    "country = input(\"Enter Country of Girl: \")\n",
    "height = int(input(\"Enter Height of Girl: \"))\n",
    "\n",
    "\n",
    "if country != \"Pakistan\":\n",
    "    print(\"Mehmood is Happy for country\") \n",
    "    if height<5:\n",
    "        print(\"Mehmood is not Happy for height\") \n",
    "    else:\n",
    "        print(\"Its fine for Mehmood\")\n",
    "else:\n",
    "    print(\"Mehmood is sad\")"
   ]
  },
  {
   "cell_type": "code",
   "execution_count": 4,
   "id": "06f34683",
   "metadata": {},
   "outputs": [],
   "source": [
    "species = \"dog\" # \"=\" is used for assignment\n",
    "if species == \"cat\":  # \"==\" double equals to is used for equals to\n",
    "    print(\"Yep, its cat.\")"
   ]
  },
  {
   "cell_type": "code",
   "execution_count": 9,
   "id": "6a1f11f0",
   "metadata": {},
   "outputs": [
    {
     "name": "stdout",
     "output_type": "stream",
     "text": [
      "Yep, its cat\n",
      "animal\n",
      "ok\n"
     ]
    }
   ],
   "source": [
    "species = \"cat\"\n",
    "\n",
    "if species == \"cat\":\n",
    "    status = \"ok\"\n",
    "    kingdom = \"animal\"\n",
    "    print(\"Yep, its cat\")\n",
    "    print(kingdom)\n",
    "    print(status)"
   ]
  },
  {
   "cell_type": "code",
   "execution_count": 11,
   "id": "31ac1ba8",
   "metadata": {},
   "outputs": [
    {
     "name": "stdout",
     "output_type": "stream",
     "text": [
      "Everything makes sense\n"
     ]
    }
   ],
   "source": [
    "if 2+2 == 4:\n",
    "    print(\"Everything makes sense\")"
   ]
  },
  {
   "cell_type": "markdown",
   "id": "3c7a0ad3",
   "metadata": {},
   "source": [
    "# Comparison Operators\n",
    " ==  equals to \n",
    " !=  not equals to \n",
    " < less than\n",
    " <= less than equals to \n",
    " > greater than\n",
    " >= greater than equals to "
   ]
  },
  {
   "cell_type": "code",
   "execution_count": 13,
   "id": "1da6a7a8",
   "metadata": {},
   "outputs": [
    {
     "data": {
      "text/plain": [
       "False"
      ]
     },
     "execution_count": 13,
     "metadata": {},
     "output_type": "execute_result"
    }
   ],
   "source": [
    "2 + 2 == 5 #  ''=='' equality operator  "
   ]
  },
  {
   "cell_type": "code",
   "execution_count": 14,
   "id": "b504b6f1",
   "metadata": {},
   "outputs": [
    {
     "data": {
      "text/plain": [
       "True"
      ]
     },
     "execution_count": 14,
     "metadata": {},
     "output_type": "execute_result"
    }
   ],
   "source": [
    "\"cat\" == \"cat\"  # \"\"==\"\" equality operator "
   ]
  },
  {
   "cell_type": "code",
   "execution_count": 16,
   "id": "334fc03b",
   "metadata": {},
   "outputs": [
    {
     "data": {
      "text/plain": [
       "False"
      ]
     },
     "execution_count": 16,
     "metadata": {},
     "output_type": "execute_result"
    }
   ],
   "source": [
    "\"dog\" == \"cat\""
   ]
  },
  {
   "cell_type": "code",
   "execution_count": 19,
   "id": "4c5c6a6d",
   "metadata": {},
   "outputs": [
    {
     "data": {
      "text/plain": [
       "True"
      ]
     },
     "execution_count": 19,
     "metadata": {},
     "output_type": "execute_result"
    }
   ],
   "source": [
    "\"Cat\" == \"Cat\""
   ]
  },
  {
   "cell_type": "code",
   "execution_count": 21,
   "id": "df90d5a7",
   "metadata": {},
   "outputs": [
    {
     "data": {
      "text/plain": [
       "False"
      ]
     },
     "execution_count": 21,
     "metadata": {},
     "output_type": "execute_result"
    }
   ],
   "source": [
    "2+2 != 4"
   ]
  },
  {
   "cell_type": "code",
   "execution_count": 22,
   "id": "25b467c7",
   "metadata": {},
   "outputs": [
    {
     "data": {
      "text/plain": [
       "True"
      ]
     },
     "execution_count": 22,
     "metadata": {},
     "output_type": "execute_result"
    }
   ],
   "source": [
    "2+2 != 5"
   ]
  },
  {
   "cell_type": "code",
   "execution_count": 26,
   "id": "8df39561",
   "metadata": {},
   "outputs": [
    {
     "data": {
      "text/plain": [
       "True"
      ]
     },
     "execution_count": 26,
     "metadata": {},
     "output_type": "execute_result"
    }
   ],
   "source": [
    "3 < 6"
   ]
  },
  {
   "cell_type": "code",
   "execution_count": 27,
   "id": "33b2a350",
   "metadata": {},
   "outputs": [
    {
     "data": {
      "text/plain": [
       "False"
      ]
     },
     "execution_count": 27,
     "metadata": {},
     "output_type": "execute_result"
    }
   ],
   "source": [
    "3 > 6"
   ]
  },
  {
   "cell_type": "code",
   "execution_count": 33,
   "id": "f9cbdf5a",
   "metadata": {},
   "outputs": [
    {
     "data": {
      "text/plain": [
       "False"
      ]
     },
     "execution_count": 33,
     "metadata": {},
     "output_type": "execute_result"
    }
   ],
   "source": [
    "3 <= 2"
   ]
  },
  {
   "cell_type": "code",
   "execution_count": 36,
   "id": "3dbe1882",
   "metadata": {},
   "outputs": [
    {
     "name": "stdout",
     "output_type": "stream",
     "text": [
      "Nope, not cat\n"
     ]
    }
   ],
   "source": [
    "species = \"dog\"\n",
    "\n",
    "if species == \"cat\":\n",
    "    print(\"Yep, it's cat.\")\n",
    "else:\n",
    "    print(\"Nope, not cat\")"
   ]
  },
  {
   "cell_type": "code",
   "execution_count": 52,
   "id": "a9827e11",
   "metadata": {},
   "outputs": [],
   "source": [
    "buy_score = 0\n",
    "fruit_condition = \"not fresh\"  \n",
    "fruit_price = \"low\""
   ]
  },
  {
   "cell_type": "code",
   "execution_count": 53,
   "id": "ed6d455a",
   "metadata": {},
   "outputs": [],
   "source": [
    "if fruit_condition == \"fresh\":\n",
    "    buy_score += 15\n",
    "elif fruit_price == \"low\":\n",
    "    buy_score += 15\n",
    "else:\n",
    "    buy_score = 0"
   ]
  },
  {
   "cell_type": "code",
   "execution_count": 54,
   "id": "050366fb",
   "metadata": {},
   "outputs": [
    {
     "data": {
      "text/plain": [
       "15"
      ]
     },
     "execution_count": 54,
     "metadata": {},
     "output_type": "execute_result"
    }
   ],
   "source": [
    "buy_score"
   ]
  },
  {
   "cell_type": "code",
   "execution_count": null,
   "id": "48448549",
   "metadata": {},
   "outputs": [],
   "source": []
  }
 ],
 "metadata": {
  "kernelspec": {
   "display_name": "Python 3 (ipykernel)",
   "language": "python",
   "name": "python3"
  },
  "language_info": {
   "codemirror_mode": {
    "name": "ipython",
    "version": 3
   },
   "file_extension": ".py",
   "mimetype": "text/x-python",
   "name": "python",
   "nbconvert_exporter": "python",
   "pygments_lexer": "ipython3",
   "version": "3.11.5"
  }
 },
 "nbformat": 4,
 "nbformat_minor": 5
}
